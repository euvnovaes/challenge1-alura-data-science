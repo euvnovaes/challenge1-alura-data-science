{
  "cells": [
    {
      "cell_type": "markdown",
      "metadata": {
        "id": "RhEdWd9YUR6H"
      },
      "source": [
        "### Importação dos dados\n",
        "\n"
      ]
    },
    {
      "cell_type": "code",
      "execution_count": 2,
      "metadata": {
        "colab": {
          "base_uri": "https://localhost:8080/",
          "height": 206
        },
        "id": "T3EvaeQ_INIL",
        "outputId": "7194bc65-372c-47e6-cb47-d4bfc9952c91"
      },
      "outputs": [
        {
          "data": {
            "text/html": [
              "<div>\n",
              "<style scoped>\n",
              "    .dataframe tbody tr th:only-of-type {\n",
              "        vertical-align: middle;\n",
              "    }\n",
              "\n",
              "    .dataframe tbody tr th {\n",
              "        vertical-align: top;\n",
              "    }\n",
              "\n",
              "    .dataframe thead th {\n",
              "        text-align: right;\n",
              "    }\n",
              "</style>\n",
              "<table border=\"1\" class=\"dataframe\">\n",
              "  <thead>\n",
              "    <tr style=\"text-align: right;\">\n",
              "      <th></th>\n",
              "      <th>Produto</th>\n",
              "      <th>Categoria do Produto</th>\n",
              "      <th>Preço</th>\n",
              "      <th>Frete</th>\n",
              "      <th>Data da Compra</th>\n",
              "      <th>Vendedor</th>\n",
              "      <th>Local da compra</th>\n",
              "      <th>Avaliação da compra</th>\n",
              "      <th>Tipo de pagamento</th>\n",
              "      <th>Quantidade de parcelas</th>\n",
              "      <th>lat</th>\n",
              "      <th>lon</th>\n",
              "    </tr>\n",
              "  </thead>\n",
              "  <tbody>\n",
              "    <tr>\n",
              "      <th>0</th>\n",
              "      <td>Assistente virtual</td>\n",
              "      <td>eletronicos</td>\n",
              "      <td>219.08</td>\n",
              "      <td>9.249790</td>\n",
              "      <td>16/01/2021</td>\n",
              "      <td>Pedro Gomes</td>\n",
              "      <td>SP</td>\n",
              "      <td>4</td>\n",
              "      <td>cartao_credito</td>\n",
              "      <td>8</td>\n",
              "      <td>-22.19</td>\n",
              "      <td>-48.79</td>\n",
              "    </tr>\n",
              "    <tr>\n",
              "      <th>1</th>\n",
              "      <td>Mesa de jantar</td>\n",
              "      <td>moveis</td>\n",
              "      <td>256.35</td>\n",
              "      <td>11.234305</td>\n",
              "      <td>18/05/2022</td>\n",
              "      <td>Beatriz Moraes</td>\n",
              "      <td>RJ</td>\n",
              "      <td>1</td>\n",
              "      <td>cartao_credito</td>\n",
              "      <td>4</td>\n",
              "      <td>-22.25</td>\n",
              "      <td>-42.66</td>\n",
              "    </tr>\n",
              "    <tr>\n",
              "      <th>2</th>\n",
              "      <td>Jogo de tabuleiro</td>\n",
              "      <td>brinquedos</td>\n",
              "      <td>279.51</td>\n",
              "      <td>21.262681</td>\n",
              "      <td>15/03/2021</td>\n",
              "      <td>João Souza</td>\n",
              "      <td>DF</td>\n",
              "      <td>1</td>\n",
              "      <td>cartao_credito</td>\n",
              "      <td>1</td>\n",
              "      <td>-15.83</td>\n",
              "      <td>-47.86</td>\n",
              "    </tr>\n",
              "    <tr>\n",
              "      <th>3</th>\n",
              "      <td>Micro-ondas</td>\n",
              "      <td>eletrodomesticos</td>\n",
              "      <td>1009.99</td>\n",
              "      <td>54.667344</td>\n",
              "      <td>03/05/2022</td>\n",
              "      <td>João Souza</td>\n",
              "      <td>RS</td>\n",
              "      <td>4</td>\n",
              "      <td>boleto</td>\n",
              "      <td>1</td>\n",
              "      <td>-30.17</td>\n",
              "      <td>-53.50</td>\n",
              "    </tr>\n",
              "    <tr>\n",
              "      <th>4</th>\n",
              "      <td>Cadeira de escritório</td>\n",
              "      <td>moveis</td>\n",
              "      <td>446.99</td>\n",
              "      <td>26.964689</td>\n",
              "      <td>07/11/2020</td>\n",
              "      <td>Larissa Alves</td>\n",
              "      <td>MG</td>\n",
              "      <td>5</td>\n",
              "      <td>boleto</td>\n",
              "      <td>1</td>\n",
              "      <td>-18.10</td>\n",
              "      <td>-44.38</td>\n",
              "    </tr>\n",
              "  </tbody>\n",
              "</table>\n",
              "</div>"
            ],
            "text/plain": [
              "                 Produto Categoria do Produto    Preço      Frete  \\\n",
              "0     Assistente virtual          eletronicos   219.08   9.249790   \n",
              "1         Mesa de jantar               moveis   256.35  11.234305   \n",
              "2      Jogo de tabuleiro           brinquedos   279.51  21.262681   \n",
              "3            Micro-ondas     eletrodomesticos  1009.99  54.667344   \n",
              "4  Cadeira de escritório               moveis   446.99  26.964689   \n",
              "\n",
              "  Data da Compra        Vendedor Local da compra  Avaliação da compra  \\\n",
              "0     16/01/2021     Pedro Gomes              SP                    4   \n",
              "1     18/05/2022  Beatriz Moraes              RJ                    1   \n",
              "2     15/03/2021      João Souza              DF                    1   \n",
              "3     03/05/2022      João Souza              RS                    4   \n",
              "4     07/11/2020   Larissa Alves              MG                    5   \n",
              "\n",
              "  Tipo de pagamento  Quantidade de parcelas    lat    lon  \n",
              "0    cartao_credito                       8 -22.19 -48.79  \n",
              "1    cartao_credito                       4 -22.25 -42.66  \n",
              "2    cartao_credito                       1 -15.83 -47.86  \n",
              "3            boleto                       1 -30.17 -53.50  \n",
              "4            boleto                       1 -18.10 -44.38  "
            ]
          },
          "execution_count": 2,
          "metadata": {},
          "output_type": "execute_result"
        }
      ],
      "source": [
        "import pandas as pd\n",
        "\n",
        "url = \"https://raw.githubusercontent.com/alura-es-cursos/challenge1-data-science/refs/heads/main/base-de-dados-challenge-1/loja_1.csv\"\n",
        "url2 = \"https://raw.githubusercontent.com/alura-es-cursos/challenge1-data-science/refs/heads/main/base-de-dados-challenge-1/loja_2.csv\"\n",
        "url3 = \"https://raw.githubusercontent.com/alura-es-cursos/challenge1-data-science/refs/heads/main/base-de-dados-challenge-1/loja_3.csv\"\n",
        "url4 = \"https://raw.githubusercontent.com/alura-es-cursos/challenge1-data-science/refs/heads/main/base-de-dados-challenge-1/loja_4.csv\"\n",
        "\n",
        "loja = pd.read_csv(url)\n",
        "loja2 = pd.read_csv(url2)\n",
        "loja3 = pd.read_csv(url3)\n",
        "loja4 = pd.read_csv(url4)\n",
        "\n",
        "loja.head()"
      ]
    },
    {
      "cell_type": "markdown",
      "metadata": {
        "id": "X62IW3KFUIYm"
      },
      "source": [
        "#1. Análise do faturamento\n"
      ]
    },
    {
      "cell_type": "code",
      "execution_count": 16,
      "metadata": {
        "id": "xykobSftV64I"
      },
      "outputs": [],
      "source": [
        "faturamento_loja1 = round(sum(loja['Preço']), 2)\n",
        "faturamento_loja2 = round(sum(loja2['Preço']), 2)\n",
        "faturamento_loja3 = round(sum(loja3['Preço']), 2)\n",
        "faturamento_loja4 = round(sum(loja4['Preço']), 2)"
      ]
    },
    {
      "cell_type": "code",
      "execution_count": 17,
      "metadata": {
        "id": "KDyr8E71V3m-"
      },
      "outputs": [
        {
          "name": "stdout",
          "output_type": "stream",
          "text": [
            "Faturamento Loja 1: R$ 1534509.12\n",
            "Faturamento Loja 2: R$ 1488459.06\n",
            "Faturamento Loja 3: R$ 1464025.03\n",
            "Faturamento Loja 4: R$ 1384497.58\n"
          ]
        }
      ],
      "source": [
        "print(f\"Faturamento Loja 1: R$ {faturamento_loja1}\")\n",
        "print(f\"Faturamento Loja 2: R$ {faturamento_loja2}\")\n",
        "print(f\"Faturamento Loja 3: R$ {faturamento_loja3}\")\n",
        "print(f\"Faturamento Loja 4: R$ {faturamento_loja4}\")"
      ]
    },
    {
      "cell_type": "markdown",
      "metadata": {
        "id": "2V_vcAPzWZmR"
      },
      "source": [
        "# 2. Vendas por Categoria\n"
      ]
    },
    {
      "cell_type": "code",
      "execution_count": 13,
      "metadata": {
        "id": "A34YupIuYhfF"
      },
      "outputs": [],
      "source": [
        "categoria_loja1 = loja['Categoria do Produto'].value_counts()\n",
        "categoria_loja2 = loja2['Categoria do Produto'].value_counts()\n",
        "categoria_loja3 = loja3['Categoria do Produto'].value_counts()\n",
        "categoria_loja4 = loja4['Categoria do Produto'].value_counts()\n"
      ]
    },
    {
      "cell_type": "code",
      "execution_count": 6,
      "metadata": {
        "id": "yZR6cOjXYSk1"
      },
      "outputs": [
        {
          "name": "stdout",
          "output_type": "stream",
          "text": [
            "Categoria mais vendida Loja 1: moveis com 465 vendas\n",
            "Categoria mais vendida Loja 2: moveis com 442 vendas\n",
            "Categoria mais vendida Loja 3: moveis com 499 vendas\n",
            "Categoria mais vendida Loja 4: moveis com 480 vendas\n"
          ]
        }
      ],
      "source": [
        "print(f'Categoria mais vendida Loja 1: {categoria_loja1.index[0]} com {categoria_loja1.values[0]} vendas')\n",
        "print(f'Categoria mais vendida Loja 2: {categoria_loja2.index[0]} com {categoria_loja2.values[0]} vendas')\n",
        "print(f'Categoria mais vendida Loja 3: {categoria_loja3.index[0]} com {categoria_loja3.values[0]} vendas')\n",
        "print(f'Categoria mais vendida Loja 4: {categoria_loja4.index[0]} com {categoria_loja4.values[0]} vendas')"
      ]
    },
    {
      "cell_type": "markdown",
      "metadata": {
        "id": "Rq6tU_xSY3jk"
      },
      "source": [
        "# 3. Média de Avaliação das Lojas"
      ]
    },
    {
      "cell_type": "code",
      "execution_count": 11,
      "metadata": {
        "id": "bh3jjjJwY5MU"
      },
      "outputs": [],
      "source": [
        "media_loja1 = round(sum(loja['Avaliação da compra']) / len(loja['Avaliação da compra']), 2)\n",
        "media_loja2 = round(sum(loja2['Avaliação da compra']) / len(loja2['Avaliação da compra']), 2)\n",
        "media_loja3 = round(sum(loja3['Avaliação da compra']) / len(loja3['Avaliação da compra']), 2)\n",
        "media_loja4 = round(sum(loja4['Avaliação da compra']) / len(loja4['Avaliação da compra']), 2)\n"
      ]
    },
    {
      "cell_type": "code",
      "execution_count": 12,
      "metadata": {
        "id": "I0KkjPoTY88F"
      },
      "outputs": [
        {
          "name": "stdout",
          "output_type": "stream",
          "text": [
            "Média de avaliação Loja 1: 3.98\n",
            "Média de avaliação Loja 2: 4.04\n",
            "Média de avaliação Loja 3: 4.05\n",
            "Média de avaliação Loja 4: 4.0\n"
          ]
        }
      ],
      "source": [
        "print(f'Média de avaliação Loja 1: {media_loja1}')\n",
        "print(f'Média de avaliação Loja 2: {media_loja2}')\n",
        "print(f'Média de avaliação Loja 3: {media_loja3}')\n",
        "print(f'Média de avaliação Loja 4: {media_loja4}')"
      ]
    },
    {
      "cell_type": "markdown",
      "metadata": {
        "id": "DmNp1KPBZCm-"
      },
      "source": [
        "# 4. Produtos Mais e Menos Vendidos"
      ]
    },
    {
      "cell_type": "code",
      "execution_count": 24,
      "metadata": {
        "id": "qoyjqijQZHfF"
      },
      "outputs": [],
      "source": [
        "produto_mais_vendido_loja1 = loja['Produto'].value_counts().index[0]\n",
        "produto_menos_vendido_loja1 = loja['Produto'].value_counts().index[-1]\n",
        "produto_mais_vendido_loja2 = loja2['Produto'].value_counts().index[0]\n",
        "produto_menos_vendido_loja2 = loja2['Produto'].value_counts().index[-1]\n",
        "produto_mais_vendido_loja3 = loja3['Produto'].value_counts().index[0]\n",
        "produto_menos_vendido_loja3 = loja3['Produto'].value_counts().index[-1]\n",
        "produto_mais_vendido_loja4 = loja4['Produto'].value_counts().index[0]\n",
        "produto_menos_vendido_loja4 = loja4['Produto'].value_counts().index[-1]\n"
      ]
    },
    {
      "cell_type": "code",
      "execution_count": 25,
      "metadata": {
        "id": "0Sw3sd4IZIGW"
      },
      "outputs": [
        {
          "name": "stdout",
          "output_type": "stream",
          "text": [
            "Produto mais vendido Loja 1: Micro-ondas com 60 vendas\n",
            "Produto menos vendido Loja 1: Celular ABXY com 33 vendas\n",
            "Produto mais vendido Loja 2: Iniciando em programação com 65 vendas\n",
            "Produto menos vendido Loja 2: Jogo de tabuleiro com 32 vendas\n",
            "Produto mais vendido Loja 3: Kit banquetas com 57 vendas\n",
            "Produto menos vendido Loja 3: Blocos de montar com 35 vendas\n",
            "Produto mais vendido Loja 4: Cama box com 62 vendas\n",
            "Produto menos vendido Loja 4: Guitarra com 33 vendas\n"
          ]
        }
      ],
      "source": [
        "print(f'Produto mais vendido Loja 1: {produto_mais_vendido_loja1} com {loja[\"Produto\"].value_counts().values[0]} vendas')\n",
        "print(f'Produto menos vendido Loja 1: {produto_menos_vendido_loja1} com {loja[\"Produto\"].value_counts().values[-1]} vendas')\n",
        "print(f'Produto mais vendido Loja 2: {produto_mais_vendido_loja2} com {loja2[\"Produto\"].value_counts().values[0]} vendas')\n",
        "print(f'Produto menos vendido Loja 2: {produto_menos_vendido_loja2} com {loja2[\"Produto\"].value_counts().values[-1]} vendas')\n",
        "print(f'Produto mais vendido Loja 3: {produto_mais_vendido_loja3} com {loja3[\"Produto\"].value_counts().values[0]} vendas')\n",
        "print(f'Produto menos vendido Loja 3: {produto_menos_vendido_loja3} com {loja3[\"Produto\"].value_counts().values[-1]} vendas')\n",
        "print(f'Produto mais vendido Loja 4: {produto_mais_vendido_loja4} com {loja4[\"Produto\"].value_counts().values[0]} vendas')\n",
        "print(f'Produto menos vendido Loja 4: {produto_menos_vendido_loja4} com {loja4[\"Produto\"].value_counts().values[-1]} vendas')"
      ]
    },
    {
      "cell_type": "markdown",
      "metadata": {
        "id": "Fl0cGi3bZKqU"
      },
      "source": [
        "# 5. Frete Médio por Loja\n"
      ]
    },
    {
      "cell_type": "code",
      "execution_count": null,
      "metadata": {
        "id": "S2JeaCykZNy9"
      },
      "outputs": [],
      "source": []
    },
    {
      "cell_type": "code",
      "execution_count": null,
      "metadata": {
        "id": "0tSdCie9ZQlt"
      },
      "outputs": [],
      "source": []
    }
  ],
  "metadata": {
    "colab": {
      "provenance": []
    },
    "kernelspec": {
      "display_name": "Python 3",
      "name": "python3"
    },
    "language_info": {
      "codemirror_mode": {
        "name": "ipython",
        "version": 3
      },
      "file_extension": ".py",
      "mimetype": "text/x-python",
      "name": "python",
      "nbconvert_exporter": "python",
      "pygments_lexer": "ipython3",
      "version": "3.13.2"
    }
  },
  "nbformat": 4,
  "nbformat_minor": 0
}
